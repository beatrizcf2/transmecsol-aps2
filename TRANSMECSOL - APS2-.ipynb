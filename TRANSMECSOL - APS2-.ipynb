{
 "cells": [
  {
   "cell_type": "markdown",
   "metadata": {},
   "source": [
    "# TRANSFERÊNCIA DE CALOR E MECÂNICA DOS SÓLIDOS - APS 2"
   ]
  },
  {
   "cell_type": "markdown",
   "metadata": {},
   "source": [
    "#### Membros\n",
    "##### Andresa Buchala dos Campos Bicudo \n",
    "##### Beatri Cabral Fernandes \n",
    "##### Leonardo Duarte Malta de Abreu "
   ]
  },
  {
   "cell_type": "code",
   "execution_count": 27,
   "metadata": {},
   "outputs": [],
   "source": [
    "#importando as bibilotecas\n",
    "from math import *\n",
    "from numpy import *\n",
    "from matplotlib import pyplot as plt"
   ]
  },
  {
   "cell_type": "code",
   "execution_count": 28,
   "metadata": {},
   "outputs": [],
   "source": [
    "# DEFINICAO DE PARAMETROS\n",
    "tol = 1e-10\n",
    "L = 300e-3\n",
    "\n",
    "#densidade [kg/m3]\n",
    "d = 2700 \n",
    "\n",
    "# diametro e raio[m]\n",
    "D = 5e-3\n",
    "r = D/2\n",
    "\n",
    "#perimetro e area\n",
    "P = 2*pi*r\n",
    "A = pi*r**2\n",
    "\n",
    "#condutividade termica [W/mK]\n",
    "k = 180\n",
    "\n",
    "#calor especifico [J/KgK]\n",
    "Cp = 896\n",
    "\n",
    "# difusividade térmica  [m2/s]\n",
    "alpha = k/(d*Cp) \n",
    "\n",
    "#Temperatura da base\n",
    "Tb = 100\n",
    "\n",
    "#Temperatura ambiente\n",
    "Ta = 25\n",
    "\n",
    "# coeficiente de conveccao [W/m2K]\n",
    "h = 100\n",
    "\n",
    "# intervalo espacial 11 nós\n",
    "dx = 300e-3/10 \n",
    "\n",
    "# intervalo temporal -> ate o erro zerar\n",
    "dt = (dx**2)/(alpha*((h*P*(dx**2))/(k*A)+2))\n",
    "\n",
    "# Criando intervalos \n",
    "x = arange(0, L+dx, dx) \n",
    "t = arange(0, 1000+dt, dt) "
   ]
  },
  {
   "cell_type": "markdown",
   "metadata": {},
   "source": [
    "## 1) Equacionamento\n",
    "![Equação 1](fotos_equacoes/eq1.png)\n",
    "A partir da forma geral da equação da energia para uma\n",
    "superfície estendida, podemos observar que o proplema proposto trata-se de um problema em apena uma dimensao. Desta forma, deve-se analisar o comportamento da temperatura ao longo do comprimento da aleta.\n",
    "![Equação 2](fotos_equacoes/eq2.png)\n",
    "Assim, devemos isolar Tl+1, para obter a temperatura no tempo seguinte\n",
    "![Equação 3](fotos_equacoes/eq3.png)"
   ]
  },
  {
   "cell_type": "markdown",
   "metadata": {},
   "source": [
    "## 2) Gráfico de Temperatura x Posição"
   ]
  },
  {
   "cell_type": "code",
   "execution_count": 29,
   "metadata": {},
   "outputs": [
    {
     "data": {
      "text/plain": [
       "array([[100.,  25.,  25., ...,  25.,  25.,  25.],\n",
       "       [100.,  25.,  25., ...,  25.,  25.,  25.],\n",
       "       [100.,  25.,  25., ...,  25.,  25.,  25.],\n",
       "       ...,\n",
       "       [100.,  25.,  25., ...,  25.,  25.,  25.],\n",
       "       [100.,  25.,  25., ...,  25.,  25.,  25.],\n",
       "       [100.,  25.,  25., ...,  25.,  25.,  25.]])"
      ]
     },
     "execution_count": 29,
     "metadata": {},
     "output_type": "execute_result"
    }
   ],
   "source": [
    "#Temperatura\n",
    "T = zeros((len(t),len(x))) # matriz[l][i]\n",
    "T[:,0] = T[-1] = Tb\n",
    "T[:,1:len(x)] = Ta\n",
    "\n",
    "T"
   ]
  },
  {
   "cell_type": "code",
   "execution_count": 30,
   "metadata": {},
   "outputs": [],
   "source": [
    "erro_final = 100\n",
    "for l in range(1, len(t)):\n",
    "    for i in range(1, len(x) -1):\n",
    "        T[l,i] = (alpha*dt/dx**2)*(T[l-1,i+1] - 2*T[l-1,i] + T[l-1,i-1]) - ((h*P*alpha*dt)/(k*A))*(T[l-1,i] - Ta) +T[l-1,i]\n",
    "    erro_final = max(abs((T[l,1:-1] - T[l-1,1:-1])/T[l,1:-1]))\n",
    "\n",
    "    if erro_final<tol:\n",
    "        break"
   ]
  },
  {
   "cell_type": "code",
   "execution_count": 31,
   "metadata": {},
   "outputs": [
    {
     "data": {
      "image/png": "[encoded data removed]",
      "text/plain": [
       "<Figure size 432x288 with 1 Axes>"
      ]
     },
     "metadata": {
      "needs_background": "light"
     },
     "output_type": "display_data"
    }
   ],
   "source": [
    "plt.plot(x, T[l])\n",
    "plt.title(\"Temperatura x Posição\")\n",
    "plt.xlabel(\"x [m]\")\n",
    "plt.ylabel(\"T [°C]\")\n",
    "plt.show()"
   ]
  },
  {
   "cell_type": "markdown",
   "metadata": {},
   "source": [
    "## 3) Comparação \n",
    "\n",
    "A equação que descreve a destribuição da temperatura na aleta, dado uma temperatura especificada na extremidade de 25°C é:"
   ]
  },
  {
   "cell_type": "code",
   "execution_count": 53,
   "metadata": {},
   "outputs": [
    {
     "data": {
      "text/plain": [
       "0.0"
      ]
     },
     "execution_count": 53,
     "metadata": {},
     "output_type": "execute_result"
    }
   ],
   "source": [
    "m = sqrt((h*P)/(k*A))\n",
    "θ_l = 25 - Ta\n",
    "θ_b = Tb - Ta\n",
    "θ_l/θ_b"
   ]
  },
  {
   "cell_type": "code",
   "execution_count": 51,
   "metadata": {},
   "outputs": [],
   "source": [
    "T2 = []\n",
    "for i in range(len(x)):\n",
    "    T2.append(((θ_l/θ_b)*(sinh(m*(L-x[i]))+sinh(m*(L-x[i]))))/(sinh(m*L)))"
   ]
  },
  {
   "cell_type": "code",
   "execution_count": 52,
   "metadata": {},
   "outputs": [
    {
     "data": {
      "image/png": "[encoded data removed]",
      "text/plain": [
       "<Figure size 432x288 with 1 Axes>"
      ]
     },
     "metadata": {
      "needs_background": "light"
     },
     "output_type": "display_data"
    }
   ],
   "source": [
    "plt.plot(x, T2)\n",
    "plt.title(\"Temperatura x Posição - Comparativo\")\n",
    "plt.xlabel(\"x [m]\")\n",
    "plt.ylabel(\"T [°C]\")\n",
    "plt.show()"
   ]
  },
  {
   "cell_type": "code",
   "execution_count": null,
   "metadata": {},
   "outputs": [],
   "source": []
  }
 ],
 "metadata": {
  "kernelspec": {
   "display_name": "Python 3",
   "language": "python",
   "name": "python3"
  },
  "language_info": {
   "codemirror_mode": {
    "name": "ipython",
    "version": 3
   },
   "file_extension": ".py",
   "mimetype": "text/x-python",
   "name": "python",
   "nbconvert_exporter": "python",
   "pygments_lexer": "ipython3",
   "version": "3.8.5"
  }
 },
 "nbformat": 4,
 "nbformat_minor": 4
}
