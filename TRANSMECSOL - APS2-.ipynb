{
 "cells": [
  {
   "cell_type": "markdown",
   "metadata": {},
   "source": [
    "# TRANSFERÊNCIA DE CALOR E MECÂNICA DOS SÓLIDOS"
   ]
  },
  {
   "cell_type": "code",
   "execution_count": 1,
   "metadata": {},
   "outputs": [],
   "source": [
    "#importando as bibilotecas\n",
    "from math import *\n",
    "from numpy import *"
   ]
  },
  {
   "cell_type": "markdown",
   "metadata": {},
   "source": [
    "## 1) \n",
    "\n",
    "A partir da forma geral da equação da energia para uma\n",
    "superfície estendida, podemos observar que o proplema proposto trata-se de um problema em apena uma dimensao. Desta forma, deve-se analisar o comportamento da temperatura ao longo do comprimento da aleta."
   ]
  },
  {
   "cell_type": "markdown",
   "metadata": {},
   "source": [
    "## 2) Gráfico de Temperatura x Posição"
   ]
  },
  {
   "cell_type": "code",
   "execution_count": 7,
   "metadata": {},
   "outputs": [],
   "source": [
    "# DEFINICAO DE PARAMETROS\n",
    "\n",
    "tol = 1e-10\n",
    "L = 300e-3\n",
    "\n",
    "#densidade [kg/m3]\n",
    "d = 2700 \n",
    "\n",
    "# diametro e raio[m]\n",
    "D = 5e-3\n",
    "r = D/2\n",
    "\n",
    "#perimetro e area\n",
    "P = 2*pi*r\n",
    "A = pi*r**2\n",
    "\n",
    "#condutividade termica [W/mK]\n",
    "k = 180\n",
    "\n",
    "#calor especifico [J/KgK]\n",
    "Cp = 896\n",
    "\n",
    "# difusividade térmica  [m2/s]\n",
    "alpha = k/(D*Cp) \n",
    "\n",
    "#Temperatura da base\n",
    "Tb = 100\n",
    "\n",
    "#Temperatura ambiente\n",
    "Ta = 25\n",
    "\n",
    "# coeficiente de conveccao [W/m2K]\n",
    "h = 100\n",
    "\n",
    "# intervalo espacial 50 nós\n",
    "dx = 300e-3/50 \n",
    "\n",
    "# intervalo temporal -> ate o erro zerar\n",
    "dt = (dx**2)/(alpha*((h*P*(dx**2))/(k*A)+2))\n",
    "\n",
    "# Criando intervalos \n",
    "x = arange(0, L+dx, dx) \n",
    "#t = arange(0, tempo, dt)\n",
    "\n",
    "#Temperatura\n",
    "T = zeros((len(x)))\n"
   ]
  },
  {
   "cell_type": "code",
   "execution_count": 8,
   "metadata": {},
   "outputs": [
    {
     "data": {
      "text/plain": [
       "array([0., 0., 0., 0., 0., 0., 0., 0., 0., 0., 0., 0., 0., 0., 0., 0., 0.,\n",
       "       0., 0., 0., 0., 0., 0., 0., 0., 0., 0., 0., 0., 0., 0., 0., 0., 0.,\n",
       "       0., 0., 0., 0., 0., 0., 0., 0., 0., 0., 0., 0., 0., 0., 0., 0., 0.])"
      ]
     },
     "execution_count": 8,
     "metadata": {},
     "output_type": "execute_result"
    }
   ],
   "source": [
    "T"
   ]
  },
  {
   "cell_type": "code",
   "execution_count": null,
   "metadata": {},
   "outputs": [],
   "source": []
  }
 ],
 "metadata": {
  "kernelspec": {
   "display_name": "Python 3",
   "language": "python",
   "name": "python3"
  },
  "language_info": {
   "codemirror_mode": {
    "name": "ipython",
    "version": 3
   },
   "file_extension": ".py",
   "mimetype": "text/x-python",
   "name": "python",
   "nbconvert_exporter": "python",
   "pygments_lexer": "ipython3",
   "version": "3.8.3"
  }
 },
 "nbformat": 4,
 "nbformat_minor": 4
}
