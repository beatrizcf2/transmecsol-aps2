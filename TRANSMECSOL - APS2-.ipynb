{
 "cells": [
  {
   "cell_type": "markdown",
   "metadata": {},
   "source": [
    "# TRANSFERÊNCIA DE CALOR E MECÂNICA DOS SÓLIDOS"
   ]
  },
  {
   "cell_type": "code",
   "execution_count": 32,
   "metadata": {},
   "outputs": [],
   "source": [
    "#importando as bibilotecas\n",
    "from math import *\n",
    "from numpy import *\n",
    "from matplotlib import pyplot as plt"
   ]
  },
  {
   "cell_type": "markdown",
   "metadata": {},
   "source": [
    "## 1) \n",
    "\n",
    "A partir da forma geral da equação da energia para uma\n",
    "superfície estendida, podemos observar que o proplema proposto trata-se de um problema em apena uma dimensao. Desta forma, deve-se analisar o comportamento da temperatura ao longo do comprimento da aleta."
   ]
  },
  {
   "cell_type": "markdown",
   "metadata": {},
   "source": [
    "## 2) Gráfico de Temperatura x Posição"
   ]
  },
  {
   "cell_type": "code",
   "execution_count": 23,
   "metadata": {},
   "outputs": [],
   "source": [
    "# DEFINICAO DE PARAMETROS\n",
    "\n",
    "tol = 1e-10\n",
    "L = 300e-3\n",
    "\n",
    "#densidade [kg/m3]\n",
    "d = 2700 \n",
    "\n",
    "# diametro e raio[m]\n",
    "D = 5e-3\n",
    "r = D/2\n",
    "\n",
    "#perimetro e area\n",
    "P = 2*pi*r\n",
    "A = pi*r**2\n",
    "\n",
    "#condutividade termica [W/mK]\n",
    "k = 180\n",
    "\n",
    "#calor especifico [J/KgK]\n",
    "Cp = 896\n",
    "\n",
    "# difusividade térmica  [m2/s]\n",
    "alpha = k/(d*Cp) \n",
    "\n",
    "#Temperatura da base\n",
    "Tb = 100\n",
    "\n",
    "#Temperatura ambiente\n",
    "Ta = 25\n",
    "\n",
    "# coeficiente de conveccao [W/m2K]\n",
    "h = 100\n",
    "\n",
    "# intervalo espacial 11 nós\n",
    "dx = 300e-3/10 \n",
    "\n",
    "# intervalo temporal -> ate o erro zerar\n",
    "dt = (dx**2)/(alpha*((h*P*(dx**2))/(k*A)+2))\n",
    "\n",
    "# Criando intervalos \n",
    "x = arange(0, L+dx, dx) \n",
    "t = arange(0, 1000+dt, dt) "
   ]
  },
  {
   "cell_type": "code",
   "execution_count": 24,
   "metadata": {},
   "outputs": [
    {
     "data": {
      "text/plain": [
       "array([[100.,  25.,  25., ...,  25.,  25.,  25.],\n",
       "       [100.,  25.,  25., ...,  25.,  25.,  25.],\n",
       "       [100.,  25.,  25., ...,  25.,  25.,  25.],\n",
       "       ...,\n",
       "       [100.,  25.,  25., ...,  25.,  25.,  25.],\n",
       "       [100.,  25.,  25., ...,  25.,  25.,  25.],\n",
       "       [100.,  25.,  25., ...,  25.,  25.,  25.]])"
      ]
     },
     "execution_count": 24,
     "metadata": {},
     "output_type": "execute_result"
    }
   ],
   "source": [
    "#Temperatura\n",
    "T = zeros((len(t),len(x))) # matriz[l][i]\n",
    "T[:,0] = T[-1] = Tb\n",
    "T[:,1:len(x)] = Ta\n",
    "\n",
    "T"
   ]
  },
  {
   "cell_type": "code",
   "execution_count": 25,
   "metadata": {},
   "outputs": [
    {
     "data": {
      "text/plain": [
       "200"
      ]
     },
     "execution_count": 25,
     "metadata": {},
     "output_type": "execute_result"
    }
   ],
   "source": [
    "len(t)"
   ]
  },
  {
   "cell_type": "code",
   "execution_count": 29,
   "metadata": {},
   "outputs": [
    {
     "name": "stdout",
     "output_type": "stream",
     "text": [
      "0.5555555555555556\n",
      "0.3424657534246577\n",
      "0.17831669044222556\n",
      "0.10627444312191815\n",
      "0.08498082832513004\n",
      "0.05445066682464637\n",
      "0.04238485831114871\n",
      "0.03202669643515043\n",
      "0.022380693708024882\n",
      "0.01870689078729785\n",
      "0.013346474679862918\n",
      "0.011040791609644067\n",
      "0.008424445505988259\n",
      "0.006601057372237045\n",
      "0.005290326664956125\n",
      "0.003993047292327992\n",
      "0.0033183674284005455\n",
      "0.0024458857836973627\n",
      "0.002081557147874093\n",
      "0.001568865615105215\n",
      "0.001306148418672061\n",
      "0.0010002324790534302\n",
      "0.0008198472531333727\n",
      "0.000635015117247333\n",
      "0.0005147273541976917\n",
      "0.0004019492365785211\n",
      "0.0003232166995736168\n",
      "0.00025388214490017143\n",
      "0.00020298239664629368\n",
      "0.0001601131709183904\n",
      "0.00012748355182662537\n",
      "0.0001008651610700686\n",
      "8.007001616906115e-05\n",
      "6.34903187255749e-05\n",
      "5.029193868602644e-05\n",
      "3.9941271621798285e-05\n",
      "3.1588926867631145e-05\n",
      "2.5116183110702695e-05\n",
      "1.984158835462379e-05\n",
      "1.5788939667484592e-05\n",
      "1.2462959670458662e-05\n",
      "9.923302953609742e-06\n",
      "7.828308857169005e-06\n",
      "6.2357671140441385e-06\n",
      "4.91717852892278e-06\n",
      "3.918077481530061e-06\n",
      "3.088622242489391e-06\n",
      "2.4616116344350958e-06\n",
      "1.940055308517089e-06\n",
      "1.5464629069043513e-06\n",
      "1.2186072037992944e-06\n",
      "9.714942632830593e-07\n",
      "7.65444254727645e-07\n",
      "6.10277040529451e-07\n",
      "4.807989581654117e-07\n",
      "3.8335728535063915e-07\n",
      "3.0200459153903304e-07\n",
      "2.4080920990902627e-07\n",
      "1.8969838005841932e-07\n",
      "1.512645513177749e-07\n",
      "1.1915540013102543e-07\n",
      "9.501614264278347e-08\n",
      "7.484518333705013e-08\n",
      "5.968357743662646e-08\n",
      "4.701257014132228e-08\n",
      "3.748955489655023e-08\n",
      "2.9530047247647508e-08\n",
      "2.3548555059741583e-08\n",
      "1.854873485554979e-08\n",
      "1.4791669391912481e-08\n",
      "1.1651033352826279e-08\n",
      "9.291147450535383e-09\n",
      "7.318373984347381e-09\n",
      "5.836076234386044e-09\n",
      "4.596896868147209e-09\n",
      "3.6658285669201104e-09\n",
      "2.887452942445009e-09\n",
      "2.302624218165002e-09\n",
      "1.8136983494352494e-09\n",
      "1.4463511585478372e-09\n",
      "1.139239965062089e-09\n",
      "9.084986469676354e-10\n",
      "7.1559174685633e-10\n",
      "5.706563837178721e-10\n",
      "4.4948527158471834e-10\n",
      "3.584470842861796e-10\n",
      "2.8233559135206583e-10\n",
      "2.2515180436308832e-10\n",
      "1.7734358406515327e-10\n",
      "1.4142470880461455e-10\n",
      "1.1139500026696755e-10\n",
      "8.883322809572996e-11\n",
      "[100.  25.  25.  25.  25.  25.  25.  25.  25.  25.  25.]\n",
      "[100.    56.25  25.    25.    25.    25.    25.    25.    25.    25.\n",
      "  25.  ]\n",
      "[100.          56.25        38.02083333  25.          25.\n",
      "  25.          25.          25.          25.          25.\n",
      "  25.        ]\n"
     ]
    }
   ],
   "source": [
    "erro_final = 100\n",
    "\n",
    "#while erro_final >= tol:\n",
    "for l in range(1, len(t)):\n",
    "    for i in range(1, len(x) -1):\n",
    "        T[l,i] = (alpha*dt/dx**2)*(T[l-1,i+1] - 2*T[l-1,i] + T[l-1,i-1]) - ((h*P*alpha*dt)/(k*A))*(T[l-1,i] - Ta) +T[l-1,i]\n",
    "    erro_final = max(abs((T[l,1:-1] - T[l-1,1:-1])/T[l,1:-1]))\n",
    "    print(erro_final)\n",
    "    if erro_final<tol:\n",
    "        break\n",
    "        \n",
    "print(T[0])\n",
    "print(T[1])\n",
    "print(T[2])\n",
    "#     erro_final = max(abs((T[l,1:-1] - T[l-1,1:-1])/T[l,1:-1]))\n",
    "#     break\n",
    "#     print(erro_final)\n",
    "#     print('-------------------------------')\n",
    "#     T = T_temp\n",
    "    "
   ]
  },
  {
   "cell_type": "code",
   "execution_count": 34,
   "metadata": {},
   "outputs": [
    {
     "data": {
      "image/png": "[encoded data removed]",
      "text/plain": [
       "<Figure size 432x288 with 1 Axes>"
      ]
     },
     "metadata": {
      "needs_background": "light"
     },
     "output_type": "display_data"
    }
   ],
   "source": [
    "plt.plot(x, T[len(t)-1])\n",
    "plt.title(\"Temperatura x Posição\")\n",
    "plt.xlabel(\"x [m]\")\n",
    "plt.ylabel(\"T [°C]\")\n",
    "plt.show()"
   ]
  },
  {
   "cell_type": "code",
   "execution_count": 35,
   "metadata": {},
   "outputs": [
    {
     "data": {
      "text/plain": [
       "3.6268604078470186"
      ]
     },
     "execution_count": 35,
     "metadata": {},
     "output_type": "execute_result"
    }
   ],
   "source": [
    "m = sqrt((h*P)/(k*A))\n",
    "sinh(2)\n",
    "# x é posicao do no"
   ]
  },
  {
   "cell_type": "code",
   "execution_count": null,
   "metadata": {},
   "outputs": [],
   "source": [
    "def calcula_dist():\n",
    "    (sinh(m(L-x)))/(sinh(m*L))"
   ]
  }
 ],
 "metadata": {
  "kernelspec": {
   "display_name": "Python 3",
   "language": "python",
   "name": "python3"
  },
  "language_info": {
   "codemirror_mode": {
    "name": "ipython",
    "version": 3
   },
   "file_extension": ".py",
   "mimetype": "text/x-python",
   "name": "python",
   "nbconvert_exporter": "python",
   "pygments_lexer": "ipython3",
   "version": "3.8.3"
  }
 },
 "nbformat": 4,
 "nbformat_minor": 4
}
